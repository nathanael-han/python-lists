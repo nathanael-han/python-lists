{
 "cells": [
  {
   "cell_type": "markdown",
   "metadata": {},
   "source": [
    "# Homework 7: Lists\n",
    "## Due Sunday, March 29th 11:59 PM\n",
    "### Downey covers Lists in Chapter 10\n",
    "## We will use Notebooks for this assignment\n",
    "Each problem is followed by a cell with Unit Tests.\n",
    "The Unit Tests will let you test your work.\n",
    "The Unit Tests are not perfect: some buggy programs may pass all tests, but they can help you understand the problem and debug your work.  \n",
    "\n",
    "## To pass the Unit Tests, it is important that your functions *return* a value\n",
    "It is not enough to *print* an answer: you must *return* it\n",
    "\n",
    "## *Do not edit the tests*\n",
    "They are there to help you validate your solution\n",
    "\n",
    "## Please submit your notebook and a pdf of your notebook after running all the tests."
   ]
  },
  {
   "cell_type": "markdown",
   "metadata": {},
   "source": [
    "# Fill in your name"
   ]
  },
  {
   "cell_type": "code",
   "execution_count": null,
   "metadata": {},
   "outputs": [],
   "source": [
    "first_name = \"Nathanael\"\n",
    "last_name = \"Han\"\n",
    "\n",
    "assert(len(first_name) != 0)\n",
    "assert(len(last_name) != 0)"
   ]
  },
  {
   "cell_type": "markdown",
   "metadata": {},
   "source": [
    "# Problem 1: Even Numbers\n",
    "Write a function that takes a list of integers and returns a new list with just the even numbers in the same order.  \n",
    "To decide if num is even, you can look at (num % 2), the remainder after dividing num by 2\n",
    "## *Edit this cell to hold your solution*"
   ]
  },
  {
   "cell_type": "code",
   "execution_count": 1,
   "metadata": {},
   "outputs": [],
   "source": [
    "def even_numbers(lst):\n",
    "    '''This function returns the even numbers in a list'''\n",
    "    numberLst = []     # creates an empty list\n",
    "    for inte in lst: \n",
    "        if inte % 2 == 0: \n",
    "            numberLst.append(inte)    # This appends the even numbers to numberLst.\n",
    "    return numberLst\n"
   ]
  },
  {
   "cell_type": "markdown",
   "metadata": {},
   "source": [
    "## Unit Test cases for even_numbers()\n",
    "## *Do not edit this cell*"
   ]
  },
  {
   "cell_type": "code",
   "execution_count": 2,
   "metadata": {},
   "outputs": [
    {
     "name": "stdout",
     "output_type": "stream",
     "text": [
      "[]\n",
      "[2, 4]\n",
      "[]\n",
      "[4, 2, 4, 6, 2]\n",
      "Success!\n"
     ]
    }
   ],
   "source": [
    "print(even_numbers([]))\n",
    "assert(even_numbers([]) == [])\n",
    "\n",
    "print(even_numbers([1, 2, 3, 4]))\n",
    "assert(even_numbers([1, 2, 3, 4]) == [2, 4])\n",
    "\n",
    "print(even_numbers([3, 5, 1, 9]))\n",
    "assert(even_numbers([3, 5, 1, 9]) == [])\n",
    "\n",
    "print(even_numbers([4, 2, 4, 6, 2]))\n",
    "assert(even_numbers([4, 2, 4, 6, 2]) == [4, 2, 4, 6, 2])\n",
    "\n",
    "print('Success!')"
   ]
  },
  {
   "cell_type": "markdown",
   "metadata": {},
   "source": [
    "# Problem 2: Rotation\n",
    "Take a list, and return a 'rotation' of the list.  Return a new list with the same elements, but the first of the original list should be the last of the returned list.  \n",
    "\n",
    "Given the list [1, 3, 9, 2], you should *return* the list [3, 9, 2, 1].\n",
    "\n",
    "*Do not change the original list*\n",
    "\n",
    "## *Edit this cell to hold your solution*"
   ]
  },
  {
   "cell_type": "code",
   "execution_count": 3,
   "metadata": {},
   "outputs": [],
   "source": [
    "def rotate(num):\n",
    "    '''This function rotates a list'''\n",
    "    new =  num[1:] + num[:1]\n",
    "    return new"
   ]
  },
  {
   "cell_type": "markdown",
   "metadata": {},
   "source": [
    "## Unit Test cases for rotate()\n",
    "## *Do not edit this cell*"
   ]
  },
  {
   "cell_type": "code",
   "execution_count": 4,
   "metadata": {},
   "outputs": [
    {
     "name": "stdout",
     "output_type": "stream",
     "text": [
      "[]\n",
      "[1]\n",
      "[2, 1]\n",
      "[2, 3, 1]\n",
      "[1, 4, 1, 5, 9, 3]\n",
      "Success!\n"
     ]
    }
   ],
   "source": [
    "lst = []\n",
    "print(rotate(lst))\n",
    "assert(rotate(lst) == lst)\n",
    "assert(lst == [])\n",
    "\n",
    "lst = [1]\n",
    "print(rotate(lst))\n",
    "assert(rotate(lst) == lst)\n",
    "assert(lst == [1])\n",
    "\n",
    "lst = [1, 2]\n",
    "print(rotate(lst))\n",
    "assert(rotate(lst) == [2, 1])\n",
    "assert(lst == [1, 2])\n",
    "\n",
    "lst = [1, 2, 3]\n",
    "print(rotate(lst))\n",
    "assert(rotate(lst) == [2, 3, 1])\n",
    "assert(lst == [1, 2, 3])\n",
    "\n",
    "lst = [3, 1, 4, 1, 5, 9]\n",
    "print(rotate(lst))\n",
    "assert(rotate(lst) == [1, 4, 1, 5, 9, 3])\n",
    "assert(lst == [3, 1, 4, 1, 5, 9])\n",
    "\n",
    "print('Success!')"
   ]
  },
  {
   "cell_type": "markdown",
   "metadata": {},
   "source": [
    "# Problem 3: Longest Item\n",
    "Take a list, and return the longest item in the list.  \n",
    "Measure the length of each item with the function len().\n",
    "### *If the list is empty, return None*\n",
    "## *Edit this cell to hold your solution*"
   ]
  },
  {
   "cell_type": "code",
   "execution_count": 5,
   "metadata": {},
   "outputs": [],
   "source": [
    "def longest_item(lst):\n",
    "    '''This function returns the longest element in a list'''\n",
    "    \n",
    "    if len(lst) == 0:\n",
    "        return None\n",
    "    \n",
    "    start = 0\n",
    "    max_word = \"\"\n",
    "    \n",
    "    for ele in lst:    # iterates over the list.\n",
    "        if len(ele)>start:    # checks if element is greater than start value.\n",
    "            start = len(ele)     # sets the start value to the longest length so far.\n",
    "            max_word = ele\n",
    "    return max_word;\n",
    " \n",
    "        \n",
    "    "
   ]
  },
  {
   "cell_type": "markdown",
   "metadata": {},
   "source": [
    "## Unit Test case for longest_item()\n",
    "## *Do not edit this cell*"
   ]
  },
  {
   "cell_type": "code",
   "execution_count": 6,
   "metadata": {},
   "outputs": [
    {
     "name": "stdout",
     "output_type": "stream",
     "text": [
      "None\n",
      "three\n",
      "four\n",
      "nine\n",
      "four\n",
      "[1, 2, 3, 4]\n",
      "Success!\n"
     ]
    }
   ],
   "source": [
    "print(longest_item([]))\n",
    "assert(longest_item([]) == None)\n",
    "\n",
    "print(longest_item(['one', 'two', 'three']))\n",
    "assert(longest_item(['one', 'two', 'three']) == 'three')\n",
    "\n",
    "print(longest_item(['four', 'six', 'ten']))\n",
    "assert(longest_item(['four', 'six', 'ten']) == 'four')\n",
    "\n",
    "print(longest_item(['one', 'nine', 'six']))\n",
    "assert(longest_item(['one', 'nine', 'six']) == 'nine')\n",
    "\n",
    "print(longest_item(['one', 'four', 'two', 'five']))\n",
    "res = longest_item(['one', 'four', 'two', 'five'])\n",
    "assert(res == 'four' or res == 'five')\n",
    "\n",
    "print(longest_item(['one', [1, 2, 3, 4], 'six']))\n",
    "assert(longest_item(['one', [1, 2, 3, 4], 'six']) == [1, 2, 3, 4])\n",
    "\n",
    "print('Success!')"
   ]
  },
  {
   "cell_type": "markdown",
   "metadata": {},
   "source": [
    "# Problem 4: Find Reversals\n",
    "Take a list of strings look for pairs that are reverses, like 'rat' and 'tar'.\n",
    "Return a list of the words that have a reversed value later in the list.\n",
    "\n",
    "Do not alter the original list\n",
    "## *Edit this cell to hold your solution*"
   ]
  },
  {
   "cell_type": "code",
   "execution_count": 7,
   "metadata": {},
   "outputs": [],
   "source": [
    "def find_reversals(lst):\n",
    "    '''This function finds words with reverses in a list'''\n",
    "    \n",
    "    slst = set(lst)    # creates a set from the list.\n",
    "\n",
    "    result = []\n",
    "    for word in lst:\n",
    "        reverse = word[::-1]    # finds the reverse of the word.\n",
    "        if reverse in slst:\n",
    "            result.append(word)    # adds the word to result if its reverse is in the list.\n",
    "        slst.remove(word)     \n",
    "    return result"
   ]
  },
  {
   "cell_type": "markdown",
   "metadata": {},
   "source": [
    "## Unit Test cases for find_reversals()\n",
    "## *Do not edit this cell*"
   ]
  },
  {
   "cell_type": "code",
   "execution_count": 8,
   "metadata": {},
   "outputs": [
    {
     "name": "stdout",
     "output_type": "stream",
     "text": [
      "[]\n",
      "[]\n",
      "['radar']\n",
      "['rat', 'radar']\n",
      "[]\n",
      "Success!\n"
     ]
    }
   ],
   "source": [
    "print(find_reversals([]))\n",
    "assert(find_reversals([]) == [])\n",
    "\n",
    "print(find_reversals(['test']))\n",
    "assert(find_reversals(['test']) == [])\n",
    "\n",
    "print(find_reversals(['radar']))\n",
    "assert(find_reversals(['radar']) == ['radar'])\n",
    "\n",
    "print(find_reversals(['art', 'rat', 'radar', 'scam', 'tar', 'vista']))\n",
    "assert(find_reversals(['art', 'rat', 'radar', 'scam', 'tar', 'vista']) == ['rat', 'radar'])\n",
    "      \n",
    "print(find_reversals(['art', 'rat', 'radars', 'scam', 'tartars', 'vista']))\n",
    "assert(find_reversals(['art', 'rat', 'radars', 'scam', 'tartars', 'vista']) == [])\n",
    "      \n",
    "print('Success!')"
   ]
  },
  {
   "cell_type": "markdown",
   "metadata": {},
   "source": [
    "# Post Mortem\n",
    "## How long did it take you to solve this problem set?\n",
    "## Did anything confuse you or cause difficulty?"
   ]
  },
  {
   "cell_type": "code",
   "execution_count": null,
   "metadata": {},
   "outputs": [],
   "source": [
    "# 4-5 hours"
   ]
  }
 ],
 "metadata": {
  "kernelspec": {
   "display_name": "Python 3",
   "language": "python",
   "name": "python3"
  },
  "language_info": {
   "codemirror_mode": {
    "name": "ipython",
    "version": 3
   },
   "file_extension": ".py",
   "mimetype": "text/x-python",
   "name": "python",
   "nbconvert_exporter": "python",
   "pygments_lexer": "ipython3",
   "version": "3.7.4"
  }
 },
 "nbformat": 4,
 "nbformat_minor": 1
}
